{
 "cells": [
  {
   "cell_type": "markdown",
   "metadata": {},
   "source": [
    "# Exploratory Data Analysis"
   ]
  },
  {
   "cell_type": "code",
   "execution_count": 12,
   "metadata": {},
   "outputs": [],
   "source": [
    "import matplotlib.pyplot as plt\n",
    "import numpy as np\n",
    "import pandas as pd\n",
    "from loader import load_files, get_labels"
   ]
  },
  {
   "cell_type": "code",
   "execution_count": 13,
   "metadata": {},
   "outputs": [],
   "source": [
    "f = '../data/{fn}.sgm'\n",
    "# load the first 5 files\n",
    "files = [f.format(fn='reut2-00'+str(i)) for i in range(7)]\n",
    "\n",
    "data = load_files(files)"
   ]
  },
  {
   "cell_type": "code",
   "execution_count": 24,
   "metadata": {},
   "outputs": [
    {
     "data": {
      "text/html": [
       "<div>\n",
       "<style scoped>\n",
       "    .dataframe tbody tr th:only-of-type {\n",
       "        vertical-align: middle;\n",
       "    }\n",
       "\n",
       "    .dataframe tbody tr th {\n",
       "        vertical-align: top;\n",
       "    }\n",
       "\n",
       "    .dataframe thead th {\n",
       "        text-align: right;\n",
       "    }\n",
       "</style>\n",
       "<table border=\"1\" class=\"dataframe\">\n",
       "  <thead>\n",
       "    <tr style=\"text-align: right;\">\n",
       "      <th></th>\n",
       "      <th>title</th>\n",
       "      <th>body</th>\n",
       "      <th>topics</th>\n",
       "      <th>places</th>\n",
       "      <th>people</th>\n",
       "      <th>orgs</th>\n",
       "      <th>exchanges</th>\n",
       "      <th>companies</th>\n",
       "    </tr>\n",
       "  </thead>\n",
       "  <tbody>\n",
       "    <tr>\n",
       "      <th>0</th>\n",
       "      <td>BAHIA COCOA REVIEW</td>\n",
       "      <td>Showers continued throughout week Bahia cocoa ...</td>\n",
       "      <td>[cocoa]</td>\n",
       "      <td>[el-salvador, usa, uruguay]</td>\n",
       "      <td>None</td>\n",
       "      <td>None</td>\n",
       "      <td>None</td>\n",
       "      <td>None</td>\n",
       "    </tr>\n",
       "    <tr>\n",
       "      <th>1</th>\n",
       "      <td>STANDARD OIL SRD TO FORM FINANCIAL UNIT</td>\n",
       "      <td>Standard Oil Co BP North America Inc said plan...</td>\n",
       "      <td>None</td>\n",
       "      <td>[usa]</td>\n",
       "      <td>None</td>\n",
       "      <td>None</td>\n",
       "      <td>None</td>\n",
       "      <td>None</td>\n",
       "    </tr>\n",
       "    <tr>\n",
       "      <th>2</th>\n",
       "      <td>TEXAS COMMERCE BANCSHARES TCB FILES PLAN</td>\n",
       "      <td>Texas Commerce Bancshares Incs Texas Commerce ...</td>\n",
       "      <td>None</td>\n",
       "      <td>[usa]</td>\n",
       "      <td>None</td>\n",
       "      <td>None</td>\n",
       "      <td>None</td>\n",
       "      <td>None</td>\n",
       "    </tr>\n",
       "    <tr>\n",
       "      <th>3</th>\n",
       "      <td>TALKING POINTBANKAMERICA BAC EQUITY OFFER</td>\n",
       "      <td>BankAmerica Corp pressure act quickly proposed...</td>\n",
       "      <td>None</td>\n",
       "      <td>[usa, brazil]</td>\n",
       "      <td>None</td>\n",
       "      <td>None</td>\n",
       "      <td>None</td>\n",
       "      <td>None</td>\n",
       "    </tr>\n",
       "    <tr>\n",
       "      <th>4</th>\n",
       "      <td>NATIONAL AVERAGE PRICES FOR FARMEROWNED RESERVE</td>\n",
       "      <td>The US Agriculture Department reported farmero...</td>\n",
       "      <td>[grain, wheat, corn, barley, oat, sorghum]</td>\n",
       "      <td>[usa]</td>\n",
       "      <td>None</td>\n",
       "      <td>None</td>\n",
       "      <td>None</td>\n",
       "      <td>None</td>\n",
       "    </tr>\n",
       "  </tbody>\n",
       "</table>\n",
       "</div>"
      ],
      "text/plain": [
       "                                             title  \\\n",
       "0                               BAHIA COCOA REVIEW   \n",
       "1          STANDARD OIL SRD TO FORM FINANCIAL UNIT   \n",
       "2         TEXAS COMMERCE BANCSHARES TCB FILES PLAN   \n",
       "3        TALKING POINTBANKAMERICA BAC EQUITY OFFER   \n",
       "4  NATIONAL AVERAGE PRICES FOR FARMEROWNED RESERVE   \n",
       "\n",
       "                                                body  \\\n",
       "0  Showers continued throughout week Bahia cocoa ...   \n",
       "1  Standard Oil Co BP North America Inc said plan...   \n",
       "2  Texas Commerce Bancshares Incs Texas Commerce ...   \n",
       "3  BankAmerica Corp pressure act quickly proposed...   \n",
       "4  The US Agriculture Department reported farmero...   \n",
       "\n",
       "                                       topics                       places  \\\n",
       "0                                     [cocoa]  [el-salvador, usa, uruguay]   \n",
       "1                                        None                        [usa]   \n",
       "2                                        None                        [usa]   \n",
       "3                                        None                [usa, brazil]   \n",
       "4  [grain, wheat, corn, barley, oat, sorghum]                        [usa]   \n",
       "\n",
       "  people  orgs exchanges companies  \n",
       "0   None  None      None      None  \n",
       "1   None  None      None      None  \n",
       "2   None  None      None      None  \n",
       "3   None  None      None      None  \n",
       "4   None  None      None      None  "
      ]
     },
     "execution_count": 24,
     "metadata": {},
     "output_type": "execute_result"
    }
   ],
   "source": [
    "df = pd.DataFrame(data)\n",
    "\n",
    "# drop rows where body is None\n",
    "df = df[df['body'].notnull()]\n",
    "\n",
    "df.head()"
   ]
  },
  {
   "cell_type": "code",
   "execution_count": 25,
   "metadata": {},
   "outputs": [
    {
     "name": "stderr",
     "output_type": "stream",
     "text": [
      "Token indices sequence length is longer than the specified maximum sequence length for this model (580 > 512). Running this sequence through the model will result in indexing errors\n"
     ]
    },
    {
     "data": {
      "text/html": [
       "<div>\n",
       "<style scoped>\n",
       "    .dataframe tbody tr th:only-of-type {\n",
       "        vertical-align: middle;\n",
       "    }\n",
       "\n",
       "    .dataframe tbody tr th {\n",
       "        vertical-align: top;\n",
       "    }\n",
       "\n",
       "    .dataframe thead th {\n",
       "        text-align: right;\n",
       "    }\n",
       "</style>\n",
       "<table border=\"1\" class=\"dataframe\">\n",
       "  <thead>\n",
       "    <tr style=\"text-align: right;\">\n",
       "      <th></th>\n",
       "      <th>title</th>\n",
       "      <th>body</th>\n",
       "      <th>topics</th>\n",
       "      <th>places</th>\n",
       "      <th>people</th>\n",
       "      <th>orgs</th>\n",
       "      <th>exchanges</th>\n",
       "      <th>companies</th>\n",
       "      <th>tokens</th>\n",
       "      <th>num_tokens</th>\n",
       "    </tr>\n",
       "  </thead>\n",
       "  <tbody>\n",
       "    <tr>\n",
       "      <th>0</th>\n",
       "      <td>BAHIA COCOA REVIEW</td>\n",
       "      <td>Showers continued throughout week Bahia cocoa ...</td>\n",
       "      <td>[cocoa]</td>\n",
       "      <td>[el-salvador, usa, uruguay]</td>\n",
       "      <td>None</td>\n",
       "      <td>None</td>\n",
       "      <td>None</td>\n",
       "      <td>None</td>\n",
       "      <td>[101, 3237, 1468, 1598, 2032, 1989, 18757, 106...</td>\n",
       "      <td>493</td>\n",
       "    </tr>\n",
       "    <tr>\n",
       "      <th>1</th>\n",
       "      <td>STANDARD OIL SRD TO FORM FINANCIAL UNIT</td>\n",
       "      <td>Standard Oil Co BP North America Inc said plan...</td>\n",
       "      <td>None</td>\n",
       "      <td>[usa]</td>\n",
       "      <td>None</td>\n",
       "      <td>None</td>\n",
       "      <td>None</td>\n",
       "      <td>None</td>\n",
       "      <td>[101, 6433, 9105, 3291, 21062, 1456, 1738, 356...</td>\n",
       "      <td>59</td>\n",
       "    </tr>\n",
       "    <tr>\n",
       "      <th>2</th>\n",
       "      <td>TEXAS COMMERCE BANCSHARES TCB FILES PLAN</td>\n",
       "      <td>Texas Commerce Bancshares Incs Texas Commerce ...</td>\n",
       "      <td>None</td>\n",
       "      <td>[usa]</td>\n",
       "      <td>None</td>\n",
       "      <td>None</td>\n",
       "      <td>None</td>\n",
       "      <td>None</td>\n",
       "      <td>[101, 2245, 7873, 18393, 6063, 22705, 1116, 35...</td>\n",
       "      <td>56</td>\n",
       "    </tr>\n",
       "    <tr>\n",
       "      <th>3</th>\n",
       "      <td>TALKING POINTBANKAMERICA BAC EQUITY OFFER</td>\n",
       "      <td>BankAmerica Corp pressure act quickly proposed...</td>\n",
       "      <td>None</td>\n",
       "      <td>[usa, brazil]</td>\n",
       "      <td>None</td>\n",
       "      <td>None</td>\n",
       "      <td>None</td>\n",
       "      <td>None</td>\n",
       "      <td>[101, 2950, 1592, 4027, 4578, 13619, 2997, 249...</td>\n",
       "      <td>364</td>\n",
       "    </tr>\n",
       "    <tr>\n",
       "      <th>4</th>\n",
       "      <td>NATIONAL AVERAGE PRICES FOR FARMEROWNED RESERVE</td>\n",
       "      <td>The US Agriculture Department reported farmero...</td>\n",
       "      <td>[grain, wheat, corn, barley, oat, sorghum]</td>\n",
       "      <td>[usa]</td>\n",
       "      <td>None</td>\n",
       "      <td>None</td>\n",
       "      <td>None</td>\n",
       "      <td>None</td>\n",
       "      <td>[101, 1109, 1646, 8273, 1951, 2103, 9230, 1379...</td>\n",
       "      <td>176</td>\n",
       "    </tr>\n",
       "  </tbody>\n",
       "</table>\n",
       "</div>"
      ],
      "text/plain": [
       "                                             title  \\\n",
       "0                               BAHIA COCOA REVIEW   \n",
       "1          STANDARD OIL SRD TO FORM FINANCIAL UNIT   \n",
       "2         TEXAS COMMERCE BANCSHARES TCB FILES PLAN   \n",
       "3        TALKING POINTBANKAMERICA BAC EQUITY OFFER   \n",
       "4  NATIONAL AVERAGE PRICES FOR FARMEROWNED RESERVE   \n",
       "\n",
       "                                                body  \\\n",
       "0  Showers continued throughout week Bahia cocoa ...   \n",
       "1  Standard Oil Co BP North America Inc said plan...   \n",
       "2  Texas Commerce Bancshares Incs Texas Commerce ...   \n",
       "3  BankAmerica Corp pressure act quickly proposed...   \n",
       "4  The US Agriculture Department reported farmero...   \n",
       "\n",
       "                                       topics                       places  \\\n",
       "0                                     [cocoa]  [el-salvador, usa, uruguay]   \n",
       "1                                        None                        [usa]   \n",
       "2                                        None                        [usa]   \n",
       "3                                        None                [usa, brazil]   \n",
       "4  [grain, wheat, corn, barley, oat, sorghum]                        [usa]   \n",
       "\n",
       "  people  orgs exchanges companies  \\\n",
       "0   None  None      None      None   \n",
       "1   None  None      None      None   \n",
       "2   None  None      None      None   \n",
       "3   None  None      None      None   \n",
       "4   None  None      None      None   \n",
       "\n",
       "                                              tokens  num_tokens  \n",
       "0  [101, 3237, 1468, 1598, 2032, 1989, 18757, 106...         493  \n",
       "1  [101, 6433, 9105, 3291, 21062, 1456, 1738, 356...          59  \n",
       "2  [101, 2245, 7873, 18393, 6063, 22705, 1116, 35...          56  \n",
       "3  [101, 2950, 1592, 4027, 4578, 13619, 2997, 249...         364  \n",
       "4  [101, 1109, 1646, 8273, 1951, 2103, 9230, 1379...         176  "
      ]
     },
     "execution_count": 25,
     "metadata": {},
     "output_type": "execute_result"
    }
   ],
   "source": [
    "# get number of tokens with respect to BERT tokenizer\n",
    "from transformers import BertTokenizer\n",
    "tokenizer = BertTokenizer.from_pretrained('bert-base-cased')\n",
    "\n",
    "df['tokens'] = df['body'].apply(tokenizer.encode)\n",
    "df['num_tokens'] = df['tokens'].apply(len)\n",
    "\n",
    "df.head()"
   ]
  },
  {
   "cell_type": "code",
   "execution_count": 26,
   "metadata": {},
   "outputs": [
    {
     "name": "stdout",
     "output_type": "stream",
     "text": [
      "121.94540363975734\n",
      "87.0\n",
      "105.99353328001054\n",
      "836\n",
      "17\n"
     ]
    }
   ],
   "source": [
    "print(df['num_tokens'].mean())\n",
    "print(df['num_tokens'].median())\n",
    "print(df['num_tokens'].std())\n",
    "print(df['num_tokens'].max())\n",
    "print(df['num_tokens'].min())"
   ]
  },
  {
   "cell_type": "code",
   "execution_count": 27,
   "metadata": {},
   "outputs": [
    {
     "name": "stdout",
     "output_type": "stream",
     "text": [
      "(3647,)\n"
     ]
    }
   ],
   "source": [
    "# get number of rows where topics is not empty\n",
    "topics = df['topics']\n",
    "\n",
    "topics.dropna(inplace=True)\n",
    "\n",
    "print(topics.shape)"
   ]
  },
  {
   "cell_type": "markdown",
   "metadata": {},
   "source": [
    "Topics seem like an excellent candidate for classification. We would be solving a multi-class, multi-label intent recognition problem. Let's learn more about the topics."
   ]
  },
  {
   "cell_type": "markdown",
   "metadata": {},
   "source": [
    "### Distribution of Topics"
   ]
  },
  {
   "cell_type": "code",
   "execution_count": 28,
   "metadata": {},
   "outputs": [
    {
     "data": {
      "text/plain": [
       "(array([3.095e+03, 4.010e+02, 8.300e+01, 0.000e+00, 2.700e+01, 1.900e+01,\n",
       "        1.200e+01, 0.000e+00, 2.000e+00, 2.000e+00, 3.000e+00, 0.000e+00,\n",
       "        1.000e+00, 0.000e+00, 1.000e+00, 0.000e+00, 0.000e+00, 0.000e+00,\n",
       "        0.000e+00, 1.000e+00]),\n",
       " array([ 1.  ,  1.75,  2.5 ,  3.25,  4.  ,  4.75,  5.5 ,  6.25,  7.  ,\n",
       "         7.75,  8.5 ,  9.25, 10.  , 10.75, 11.5 , 12.25, 13.  , 13.75,\n",
       "        14.5 , 15.25, 16.  ]),\n",
       " <BarContainer object of 20 artists>)"
      ]
     },
     "execution_count": 28,
     "metadata": {},
     "output_type": "execute_result"
    },
    {
     "data": {
      "image/png": "[encoded data removed]",
      "text/plain": [
       "<Figure size 640x480 with 1 Axes>"
      ]
     },
     "metadata": {},
     "output_type": "display_data"
    }
   ],
   "source": [
    "# get average number of topics per document\n",
    "num_topics = topics.apply(lambda x: len(x))\n",
    "\n",
    "plt.hist(num_topics, bins=20)"
   ]
  },
  {
   "cell_type": "code",
   "execution_count": 29,
   "metadata": {},
   "outputs": [
    {
     "name": "stdout",
     "output_type": "stream",
     "text": [
      "Average number of topics per document:  1.2382780367425281\n",
      "Standard deviation of number of topics per document:  0.7700397126758107\n",
      "Median number of topics per document:  1.0\n",
      "Maximum number of topics per document:  16\n",
      "Minimum number of topics per document:  1\n"
     ]
    }
   ],
   "source": [
    "average_num_topics = num_topics.mean()\n",
    "std_num_topics = num_topics.std()\n",
    "median_num_topics = num_topics.median()\n",
    "max_num_topics = num_topics.max()\n",
    "\n",
    "print(\"Average number of topics per document: \", average_num_topics)\n",
    "print(\"Standard deviation of number of topics per document: \", std_num_topics)\n",
    "print(\"Median number of topics per document: \", median_num_topics)\n",
    "print(\"Maximum number of topics per document: \", max_num_topics)\n",
    "print(\"Minimum number of topics per document: \", num_topics.min())"
   ]
  },
  {
   "cell_type": "markdown",
   "metadata": {},
   "source": [
    "Now, let's see what the most popular topics are."
   ]
  },
  {
   "cell_type": "code",
   "execution_count": 30,
   "metadata": {},
   "outputs": [],
   "source": [
    "all_topics = get_labels('topics')\n",
    "\n",
    "idx_to_topic = {i: all_topics[i] for i in range(len(all_topics))}\n",
    "topic_to_idx = {all_topics[i]: i for i in range(len(all_topics))}"
   ]
  },
  {
   "cell_type": "code",
   "execution_count": 33,
   "metadata": {},
   "outputs": [
    {
     "data": {
      "text/plain": [
       "135"
      ]
     },
     "execution_count": 33,
     "metadata": {},
     "output_type": "execute_result"
    }
   ],
   "source": [
    "len(all_topics)"
   ]
  },
  {
   "cell_type": "code",
   "execution_count": 31,
   "metadata": {},
   "outputs": [],
   "source": [
    "# get the frequency of each topic\n",
    "topic_counts = {topic: 0 for topic in all_topics}\n",
    "\n",
    "for doc_topics in topics:\n",
    "    for topic in doc_topics:\n",
    "        topic_counts[topic] += 1"
   ]
  },
  {
   "cell_type": "code",
   "execution_count": 32,
   "metadata": {},
   "outputs": [
    {
     "data": {
      "image/png": "[encoded data removed]",
      "text/plain": [
       "<Figure size 640x480 with 1 Axes>"
      ]
     },
     "metadata": {},
     "output_type": "display_data"
    }
   ],
   "source": [
    "sorted_topics = sorted(topic_counts.items(), key=lambda x: x[1], reverse=True)\n",
    "\n",
    "plt.bar(range(10), [x[1] for x in sorted_topics[:10]])\n",
    "\n",
    "plt.title('Top 10 Most Frequent Topics')\n",
    "plt.ylabel('Frequency')\n",
    "plt.xlabel('Topic')\n",
    "\n",
    "plt.xticks(range(10), [x[0] for x in sorted_topics[:10]], rotation=45)\n",
    "\n",
    "plt.show()"
   ]
  }
 ],
 "metadata": {
  "kernelspec": {
   "display_name": "Python 3",
   "language": "python",
   "name": "python3"
  },
  "language_info": {
   "codemirror_mode": {
    "name": "ipython",
    "version": 3
   },
   "file_extension": ".py",
   "mimetype": "text/x-python",
   "name": "python",
   "nbconvert_exporter": "python",
   "pygments_lexer": "ipython3",
   "version": "3.11.8"
  }
 },
 "nbformat": 4,
 "nbformat_minor": 2
}
