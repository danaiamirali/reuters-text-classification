{
 "cells": [
  {
   "cell_type": "markdown",
   "metadata": {},
   "source": [
    "# Exploratory Data Analysis"
   ]
  },
  {
   "cell_type": "code",
   "execution_count": 3,
   "metadata": {},
   "outputs": [],
   "source": [
    "import matplotlib.pyplot as plt\n",
    "import numpy as np\n",
    "import pandas as pd\n",
    "from loader import load_files, get_labels, load_data"
   ]
  },
  {
   "cell_type": "code",
   "execution_count": 4,
   "metadata": {},
   "outputs": [
    {
     "name": "stdout",
     "output_type": "stream",
     "text": [
      "Loading ../data/reut2-008.sgm...\n",
      "Loaded ../data/reut2-008.sgm.\n",
      "Loading ../data/reut2-009.sgm...\n",
      "Loaded ../data/reut2-009.sgm.\n",
      "Loading ../data/reut2-010.sgm...\n",
      "Loaded ../data/reut2-010.sgm.\n",
      "Loading ../data/reut2-011.sgm...\n",
      "Loaded ../data/reut2-011.sgm.\n",
      "Loading ../data/reut2-012.sgm...\n",
      "Loaded ../data/reut2-012.sgm.\n",
      "Loading ../data/reut2-013.sgm...\n",
      "Loaded ../data/reut2-013.sgm.\n",
      "Loading ../data/reut2-014.sgm...\n",
      "Loaded ../data/reut2-014.sgm.\n",
      "Loading ../data/reut2-015.sgm...\n",
      "Loaded ../data/reut2-015.sgm.\n",
      "Loading ../data/reut2-016.sgm...\n",
      "Loaded ../data/reut2-016.sgm.\n",
      "Loading ../data/reut2-017.sgm...\n",
      "Error reading file: ../data/reut2-017.sgm\n",
      "Loaded ../data/reut2-017.sgm.\n",
      "Loading ../data/reut2-018.sgm...\n",
      "Loaded ../data/reut2-018.sgm.\n",
      "Loading ../data/reut2-019.sgm...\n",
      "Loaded ../data/reut2-019.sgm.\n",
      "Loading ../data/reut2-020.sgm...\n",
      "Loaded ../data/reut2-020.sgm.\n",
      "Loading ../data/reut2-000.sgm...\n",
      "Loaded ../data/reut2-000.sgm.\n",
      "Loading ../data/reut2-001.sgm...\n",
      "Loaded ../data/reut2-001.sgm.\n",
      "Loading ../data/reut2-002.sgm...\n",
      "Loaded ../data/reut2-002.sgm.\n",
      "Loading ../data/reut2-003.sgm...\n",
      "Loaded ../data/reut2-003.sgm.\n",
      "Loading ../data/reut2-004.sgm...\n",
      "Loaded ../data/reut2-004.sgm.\n",
      "Loading ../data/reut2-021.sgm...\n",
      "Loaded ../data/reut2-021.sgm.\n",
      "Loading ../data/reut2-005.sgm...\n",
      "Loaded ../data/reut2-005.sgm.\n",
      "Loading ../data/reut2-006.sgm...\n",
      "Loaded ../data/reut2-006.sgm.\n",
      "Loading ../data/reut2-007.sgm...\n",
      "Loaded ../data/reut2-007.sgm.\n",
      "Loaded 20578 documents.\n"
     ]
    }
   ],
   "source": [
    "# f = '../data/{fn}.sgm'\n",
    "# load the first 5 files\n",
    "# files = [f.format(fn='reut2-00'+str(i)) for i in range(7)]\n",
    "\n",
    "# data = load_files(files)\n",
    "\n",
    "data = load_data(\"../data/\")"
   ]
  },
  {
   "cell_type": "code",
   "execution_count": 5,
   "metadata": {},
   "outputs": [
    {
     "data": {
      "text/html": [
       "<div>\n",
       "<style scoped>\n",
       "    .dataframe tbody tr th:only-of-type {\n",
       "        vertical-align: middle;\n",
       "    }\n",
       "\n",
       "    .dataframe tbody tr th {\n",
       "        vertical-align: top;\n",
       "    }\n",
       "\n",
       "    .dataframe thead th {\n",
       "        text-align: right;\n",
       "    }\n",
       "</style>\n",
       "<table border=\"1\" class=\"dataframe\">\n",
       "  <thead>\n",
       "    <tr style=\"text-align: right;\">\n",
       "      <th></th>\n",
       "      <th>title</th>\n",
       "      <th>body</th>\n",
       "      <th>topics</th>\n",
       "      <th>places</th>\n",
       "      <th>people</th>\n",
       "      <th>orgs</th>\n",
       "      <th>exchanges</th>\n",
       "      <th>companies</th>\n",
       "    </tr>\n",
       "  </thead>\n",
       "  <tbody>\n",
       "    <tr>\n",
       "      <th>0</th>\n",
       "      <td>GANTOS INC GTOS 4TH QTR JAN 31 NET</td>\n",
       "      <td>Shr 43 cts vs 37 cts Net 2276000 vs 1674000 Re...</td>\n",
       "      <td>[earn]</td>\n",
       "      <td>[usa]</td>\n",
       "      <td>None</td>\n",
       "      <td>None</td>\n",
       "      <td>None</td>\n",
       "      <td>None</td>\n",
       "    </tr>\n",
       "    <tr>\n",
       "      <th>2</th>\n",
       "      <td>LDC FOOD AID NEEDS DECLINE IN 198687 USDA</td>\n",
       "      <td>Total food aid needs 69 least developed countr...</td>\n",
       "      <td>[grain, wheat, oilseed, soybean, veg-oil]</td>\n",
       "      <td>[usa]</td>\n",
       "      <td>None</td>\n",
       "      <td>None</td>\n",
       "      <td>None</td>\n",
       "      <td>None</td>\n",
       "    </tr>\n",
       "    <tr>\n",
       "      <th>3</th>\n",
       "      <td>US SUGAR PROGRAM CUT SENT TO CONGRESS BY USDA</td>\n",
       "      <td>The US Agriculture Department formally transmi...</td>\n",
       "      <td>[sugar, grain, corn]</td>\n",
       "      <td>[usa]</td>\n",
       "      <td>None</td>\n",
       "      <td>None</td>\n",
       "      <td>None</td>\n",
       "      <td>None</td>\n",
       "    </tr>\n",
       "    <tr>\n",
       "      <th>4</th>\n",
       "      <td>OE INC 4TH QTR NET</td>\n",
       "      <td>Shr 24 cts vs 26 cts Net 15 mln vs 13 mln Revs...</td>\n",
       "      <td>[earn]</td>\n",
       "      <td>[canada]</td>\n",
       "      <td>None</td>\n",
       "      <td>None</td>\n",
       "      <td>None</td>\n",
       "      <td>None</td>\n",
       "    </tr>\n",
       "    <tr>\n",
       "      <th>5</th>\n",
       "      <td>TEXAS INSTRUMENTS TXN BEGINS BUILDING PLANT</td>\n",
       "      <td>Texas Instruments Inc said construction begin ...</td>\n",
       "      <td>None</td>\n",
       "      <td>[usa]</td>\n",
       "      <td>None</td>\n",
       "      <td>None</td>\n",
       "      <td>None</td>\n",
       "      <td>None</td>\n",
       "    </tr>\n",
       "  </tbody>\n",
       "</table>\n",
       "</div>"
      ],
      "text/plain": [
       "                                           title  \\\n",
       "0             GANTOS INC GTOS 4TH QTR JAN 31 NET   \n",
       "2      LDC FOOD AID NEEDS DECLINE IN 198687 USDA   \n",
       "3  US SUGAR PROGRAM CUT SENT TO CONGRESS BY USDA   \n",
       "4                             OE INC 4TH QTR NET   \n",
       "5    TEXAS INSTRUMENTS TXN BEGINS BUILDING PLANT   \n",
       "\n",
       "                                                body  \\\n",
       "0  Shr 43 cts vs 37 cts Net 2276000 vs 1674000 Re...   \n",
       "2  Total food aid needs 69 least developed countr...   \n",
       "3  The US Agriculture Department formally transmi...   \n",
       "4  Shr 24 cts vs 26 cts Net 15 mln vs 13 mln Revs...   \n",
       "5  Texas Instruments Inc said construction begin ...   \n",
       "\n",
       "                                      topics    places people  orgs exchanges  \\\n",
       "0                                     [earn]     [usa]   None  None      None   \n",
       "2  [grain, wheat, oilseed, soybean, veg-oil]     [usa]   None  None      None   \n",
       "3                       [sugar, grain, corn]     [usa]   None  None      None   \n",
       "4                                     [earn]  [canada]   None  None      None   \n",
       "5                                       None     [usa]   None  None      None   \n",
       "\n",
       "  companies  \n",
       "0      None  \n",
       "2      None  \n",
       "3      None  \n",
       "4      None  \n",
       "5      None  "
      ]
     },
     "execution_count": 5,
     "metadata": {},
     "output_type": "execute_result"
    }
   ],
   "source": [
    "df = pd.DataFrame(data)\n",
    "\n",
    "# drop rows where body is None\n",
    "df = df[df['body'].notnull()]\n",
    "\n",
    "df.head()"
   ]
  },
  {
   "cell_type": "code",
   "execution_count": 6,
   "metadata": {},
   "outputs": [
    {
     "name": "stderr",
     "output_type": "stream",
     "text": [
      "Token indices sequence length is longer than the specified maximum sequence length for this model (520 > 512). Running this sequence through the model will result in indexing errors\n"
     ]
    },
    {
     "data": {
      "text/html": [
       "<div>\n",
       "<style scoped>\n",
       "    .dataframe tbody tr th:only-of-type {\n",
       "        vertical-align: middle;\n",
       "    }\n",
       "\n",
       "    .dataframe tbody tr th {\n",
       "        vertical-align: top;\n",
       "    }\n",
       "\n",
       "    .dataframe thead th {\n",
       "        text-align: right;\n",
       "    }\n",
       "</style>\n",
       "<table border=\"1\" class=\"dataframe\">\n",
       "  <thead>\n",
       "    <tr style=\"text-align: right;\">\n",
       "      <th></th>\n",
       "      <th>title</th>\n",
       "      <th>body</th>\n",
       "      <th>topics</th>\n",
       "      <th>places</th>\n",
       "      <th>people</th>\n",
       "      <th>orgs</th>\n",
       "      <th>exchanges</th>\n",
       "      <th>companies</th>\n",
       "      <th>tokens</th>\n",
       "      <th>num_tokens</th>\n",
       "    </tr>\n",
       "  </thead>\n",
       "  <tbody>\n",
       "    <tr>\n",
       "      <th>0</th>\n",
       "      <td>GANTOS INC GTOS 4TH QTR JAN 31 NET</td>\n",
       "      <td>Shr 43 cts vs 37 cts Net 2276000 vs 1674000 Re...</td>\n",
       "      <td>[earn]</td>\n",
       "      <td>[usa]</td>\n",
       "      <td>None</td>\n",
       "      <td>None</td>\n",
       "      <td>None</td>\n",
       "      <td>None</td>\n",
       "      <td>[101, 156, 8167, 3887, 172, 2145, 5016, 3413, ...</td>\n",
       "      <td>85</td>\n",
       "    </tr>\n",
       "    <tr>\n",
       "      <th>2</th>\n",
       "      <td>LDC FOOD AID NEEDS DECLINE IN 198687 USDA</td>\n",
       "      <td>Total food aid needs 69 least developed countr...</td>\n",
       "      <td>[grain, wheat, oilseed, soybean, veg-oil]</td>\n",
       "      <td>[usa]</td>\n",
       "      <td>None</td>\n",
       "      <td>None</td>\n",
       "      <td>None</td>\n",
       "      <td>None</td>\n",
       "      <td>[101, 8653, 2094, 4256, 2993, 5691, 1655, 1872...</td>\n",
       "      <td>151</td>\n",
       "    </tr>\n",
       "    <tr>\n",
       "      <th>3</th>\n",
       "      <td>US SUGAR PROGRAM CUT SENT TO CONGRESS BY USDA</td>\n",
       "      <td>The US Agriculture Department formally transmi...</td>\n",
       "      <td>[sugar, grain, corn]</td>\n",
       "      <td>[usa]</td>\n",
       "      <td>None</td>\n",
       "      <td>None</td>\n",
       "      <td>None</td>\n",
       "      <td>None</td>\n",
       "      <td>[101, 1109, 1646, 8273, 1951, 5708, 12086, 275...</td>\n",
       "      <td>520</td>\n",
       "    </tr>\n",
       "    <tr>\n",
       "      <th>4</th>\n",
       "      <td>OE INC 4TH QTR NET</td>\n",
       "      <td>Shr 24 cts vs 26 cts Net 15 mln vs 13 mln Revs...</td>\n",
       "      <td>[earn]</td>\n",
       "      <td>[canada]</td>\n",
       "      <td>None</td>\n",
       "      <td>None</td>\n",
       "      <td>None</td>\n",
       "      <td>None</td>\n",
       "      <td>[101, 156, 8167, 1572, 172, 2145, 5016, 1744, ...</td>\n",
       "      <td>72</td>\n",
       "    </tr>\n",
       "    <tr>\n",
       "      <th>5</th>\n",
       "      <td>TEXAS INSTRUMENTS TXN BEGINS BUILDING PLANT</td>\n",
       "      <td>Texas Instruments Inc said construction begin ...</td>\n",
       "      <td>None</td>\n",
       "      <td>[usa]</td>\n",
       "      <td>None</td>\n",
       "      <td>None</td>\n",
       "      <td>None</td>\n",
       "      <td>None</td>\n",
       "      <td>[101, 2245, 25832, 3561, 1163, 2058, 3295, 136...</td>\n",
       "      <td>71</td>\n",
       "    </tr>\n",
       "  </tbody>\n",
       "</table>\n",
       "</div>"
      ],
      "text/plain": [
       "                                           title  \\\n",
       "0             GANTOS INC GTOS 4TH QTR JAN 31 NET   \n",
       "2      LDC FOOD AID NEEDS DECLINE IN 198687 USDA   \n",
       "3  US SUGAR PROGRAM CUT SENT TO CONGRESS BY USDA   \n",
       "4                             OE INC 4TH QTR NET   \n",
       "5    TEXAS INSTRUMENTS TXN BEGINS BUILDING PLANT   \n",
       "\n",
       "                                                body  \\\n",
       "0  Shr 43 cts vs 37 cts Net 2276000 vs 1674000 Re...   \n",
       "2  Total food aid needs 69 least developed countr...   \n",
       "3  The US Agriculture Department formally transmi...   \n",
       "4  Shr 24 cts vs 26 cts Net 15 mln vs 13 mln Revs...   \n",
       "5  Texas Instruments Inc said construction begin ...   \n",
       "\n",
       "                                      topics    places people  orgs exchanges  \\\n",
       "0                                     [earn]     [usa]   None  None      None   \n",
       "2  [grain, wheat, oilseed, soybean, veg-oil]     [usa]   None  None      None   \n",
       "3                       [sugar, grain, corn]     [usa]   None  None      None   \n",
       "4                                     [earn]  [canada]   None  None      None   \n",
       "5                                       None     [usa]   None  None      None   \n",
       "\n",
       "  companies                                             tokens  num_tokens  \n",
       "0      None  [101, 156, 8167, 3887, 172, 2145, 5016, 3413, ...          85  \n",
       "2      None  [101, 8653, 2094, 4256, 2993, 5691, 1655, 1872...         151  \n",
       "3      None  [101, 1109, 1646, 8273, 1951, 5708, 12086, 275...         520  \n",
       "4      None  [101, 156, 8167, 1572, 172, 2145, 5016, 1744, ...          72  \n",
       "5      None  [101, 2245, 25832, 3561, 1163, 2058, 3295, 136...          71  "
      ]
     },
     "execution_count": 6,
     "metadata": {},
     "output_type": "execute_result"
    }
   ],
   "source": [
    "# get number of tokens with respect to BERT tokenizer\n",
    "from transformers import BertTokenizer\n",
    "tokenizer = BertTokenizer.from_pretrained('bert-base-cased')\n",
    "\n",
    "df['tokens'] = df['body'].apply(tokenizer.encode)\n",
    "df['num_tokens'] = df['tokens'].apply(len)\n",
    "\n",
    "df.head()"
   ]
  },
  {
   "cell_type": "code",
   "execution_count": 7,
   "metadata": {},
   "outputs": [
    {
     "name": "stdout",
     "output_type": "stream",
     "text": [
      "121.95260454068386\n",
      "87.0\n",
      "109.25442865578694\n",
      "2976\n",
      "4\n"
     ]
    }
   ],
   "source": [
    "print(df['num_tokens'].mean())\n",
    "print(df['num_tokens'].median())\n",
    "print(df['num_tokens'].std())\n",
    "print(df['num_tokens'].max())\n",
    "print(df['num_tokens'].min())"
   ]
  },
  {
   "cell_type": "code",
   "execution_count": 8,
   "metadata": {},
   "outputs": [
    {
     "name": "stdout",
     "output_type": "stream",
     "text": [
      "0.016461359995580842\n"
     ]
    }
   ],
   "source": [
    "# figure out what percentage of the data has more than 512 tokens\n",
    "print(df['num_tokens'].apply(lambda x: x > 512).mean())"
   ]
  },
  {
   "cell_type": "code",
   "execution_count": 9,
   "metadata": {},
   "outputs": [
    {
     "name": "stdout",
     "output_type": "stream",
     "text": [
      "(9814,)\n"
     ]
    }
   ],
   "source": [
    "# get number of rows where topics is not empty\n",
    "topics = df['topics']\n",
    "\n",
    "topics.dropna(inplace=True)\n",
    "\n",
    "print(topics.shape)"
   ]
  },
  {
   "cell_type": "markdown",
   "metadata": {},
   "source": [
    "Topics seem like an excellent candidate for classification. We would be solving a multi-class, multi-label intent recognition problem. Let's learn more about the topics."
   ]
  },
  {
   "cell_type": "markdown",
   "metadata": {},
   "source": [
    "### Distribution of Topics"
   ]
  },
  {
   "cell_type": "code",
   "execution_count": 10,
   "metadata": {},
   "outputs": [
    {
     "data": {
      "text/plain": [
       "(array([8.268e+03, 1.099e+03, 2.460e+02, 0.000e+00, 8.900e+01, 5.100e+01,\n",
       "        2.800e+01, 0.000e+00, 1.100e+01, 6.000e+00, 6.000e+00, 0.000e+00,\n",
       "        4.000e+00, 1.000e+00, 2.000e+00, 0.000e+00, 0.000e+00, 2.000e+00,\n",
       "        0.000e+00, 1.000e+00]),\n",
       " array([ 1.  ,  1.75,  2.5 ,  3.25,  4.  ,  4.75,  5.5 ,  6.25,  7.  ,\n",
       "         7.75,  8.5 ,  9.25, 10.  , 10.75, 11.5 , 12.25, 13.  , 13.75,\n",
       "        14.5 , 15.25, 16.  ]),\n",
       " <BarContainer object of 20 artists>)"
      ]
     },
     "execution_count": 10,
     "metadata": {},
     "output_type": "execute_result"
    },
    {
     "data": {
      "image/png": "[encoded data removed]",
      "text/plain": [
       "<Figure size 640x480 with 1 Axes>"
      ]
     },
     "metadata": {},
     "output_type": "display_data"
    }
   ],
   "source": [
    "# get average number of topics per document\n",
    "num_topics = topics.apply(lambda x: len(x))\n",
    "\n",
    "plt.hist(num_topics, bins=20)"
   ]
  },
  {
   "cell_type": "code",
   "execution_count": 11,
   "metadata": {},
   "outputs": [
    {
     "name": "stdout",
     "output_type": "stream",
     "text": [
      "Average number of topics per document:  1.2513755858976972\n",
      "Standard deviation of number of topics per document:  0.7873229003354858\n",
      "Median number of topics per document:  1.0\n",
      "Maximum number of topics per document:  16\n",
      "Minimum number of topics per document:  1\n"
     ]
    }
   ],
   "source": [
    "average_num_topics = num_topics.mean()\n",
    "std_num_topics = num_topics.std()\n",
    "median_num_topics = num_topics.median()\n",
    "max_num_topics = num_topics.max()\n",
    "\n",
    "print(\"Average number of topics per document: \", average_num_topics)\n",
    "print(\"Standard deviation of number of topics per document: \", std_num_topics)\n",
    "print(\"Median number of topics per document: \", median_num_topics)\n",
    "print(\"Maximum number of topics per document: \", max_num_topics)\n",
    "print(\"Minimum number of topics per document: \", num_topics.min())"
   ]
  },
  {
   "cell_type": "markdown",
   "metadata": {},
   "source": [
    "Now, let's see what the most popular topics are."
   ]
  },
  {
   "cell_type": "code",
   "execution_count": 12,
   "metadata": {},
   "outputs": [],
   "source": [
    "all_topics = get_labels('topics')\n",
    "\n",
    "idx_to_topic = {i: all_topics[i] for i in range(len(all_topics))}\n",
    "topic_to_idx = {all_topics[i]: i for i in range(len(all_topics))}"
   ]
  },
  {
   "cell_type": "code",
   "execution_count": 13,
   "metadata": {},
   "outputs": [
    {
     "data": {
      "text/plain": [
       "135"
      ]
     },
     "execution_count": 13,
     "metadata": {},
     "output_type": "execute_result"
    }
   ],
   "source": [
    "len(all_topics)"
   ]
  },
  {
   "cell_type": "code",
   "execution_count": 14,
   "metadata": {},
   "outputs": [],
   "source": [
    "# get the frequency of each topic\n",
    "topic_counts = {topic: 0 for topic in all_topics}\n",
    "\n",
    "for doc_topics in topics:\n",
    "    for topic in doc_topics:\n",
    "        topic_counts[topic] += 1"
   ]
  },
  {
   "cell_type": "code",
   "execution_count": 15,
   "metadata": {},
   "outputs": [
    {
     "data": {
      "image/png": "[encoded data removed]",
      "text/plain": [
       "<Figure size 640x480 with 1 Axes>"
      ]
     },
     "metadata": {},
     "output_type": "display_data"
    }
   ],
   "source": [
    "sorted_topics = sorted(topic_counts.items(), key=lambda x: x[1], reverse=True)\n",
    "\n",
    "plt.bar(range(10), [x[1] for x in sorted_topics[:10]])\n",
    "\n",
    "plt.title('Top 10 Most Frequent Topics')\n",
    "plt.ylabel('Frequency')\n",
    "plt.xlabel('Topic')\n",
    "\n",
    "plt.xticks(range(10), [x[0] for x in sorted_topics[:10]], rotation=45)\n",
    "\n",
    "plt.show()"
   ]
  }
 ],
 "metadata": {
  "kernelspec": {
   "display_name": "Python 3",
   "language": "python",
   "name": "python3"
  },
  "language_info": {
   "codemirror_mode": {
    "name": "ipython",
    "version": 3
   },
   "file_extension": ".py",
   "mimetype": "text/x-python",
   "name": "python",
   "nbconvert_exporter": "python",
   "pygments_lexer": "ipython3",
   "version": "3.10.13"
  }
 },
 "nbformat": 4,
 "nbformat_minor": 2
}
